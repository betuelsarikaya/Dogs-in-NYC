{
 "cells": [
  {
   "cell_type": "markdown",
   "id": "d763ae81-f485-414e-8589-113fe59c6a98",
   "metadata": {},
   "source": [
    "# Project Dogs in NYC"
   ]
  },
  {
   "cell_type": "markdown",
   "id": "cdc06836-9886-4a1a-84dc-1c6fb0a6833b",
   "metadata": {},
   "source": [
    "This is my first project to kind of try to create a data analysis. \n",
    "I found this Dataset about licensed dogs in NYC. \n",
    "I want to find out which breeds are the most popular. \n",
    "\n",
    "This is the Link to the source: https://data.cityofnewyork.us/Health/NYC-Dog-Licensing-Dataset/nu7n-tubp/about_data "
   ]
  },
  {
   "cell_type": "code",
   "execution_count": 1,
   "id": "260eb79b-3bf7-4094-8c95-5e25d11eb52c",
   "metadata": {},
   "outputs": [],
   "source": [
    "import pandas as pd\n",
    "\n",
    "import numpy as np"
   ]
  },
  {
   "cell_type": "markdown",
   "id": "9165d2c4-727a-46d4-afcb-3fa90903566b",
   "metadata": {},
   "source": [
    "# Read in the file "
   ]
  },
  {
   "cell_type": "code",
   "execution_count": 2,
   "id": "e07db828-ad5a-48c7-a7ff-f212c7f2049b",
   "metadata": {},
   "outputs": [
    {
     "name": "stderr",
     "output_type": "stream",
     "text": [
      "/var/folders/vx/9t16bgq90bg_lsw032_h4tv00000gn/T/ipykernel_19886/2838553744.py:1: DtypeWarning: Columns (2) have mixed types. Specify dtype option on import or set low_memory=False.\n",
      "  df = pd.read_csv(\"NYC_Dog_Licensing_Dataset.csv\")\n"
     ]
    }
   ],
   "source": [
    "df = pd.read_csv(\"NYC_Dog_Licensing_Dataset.csv\")"
   ]
  },
  {
   "cell_type": "markdown",
   "id": "e85fe49b-69b2-44e0-8085-94da0b16b0c2",
   "metadata": {},
   "source": [
    "# This is what the data looks like:"
   ]
  },
  {
   "cell_type": "code",
   "execution_count": 3,
   "id": "0b59d13e-02a1-4fcb-a42a-18e8c76b4e77",
   "metadata": {},
   "outputs": [
    {
     "data": {
      "text/html": [
       "<div>\n",
       "<style scoped>\n",
       "    .dataframe tbody tr th:only-of-type {\n",
       "        vertical-align: middle;\n",
       "    }\n",
       "\n",
       "    .dataframe tbody tr th {\n",
       "        vertical-align: top;\n",
       "    }\n",
       "\n",
       "    .dataframe thead th {\n",
       "        text-align: right;\n",
       "    }\n",
       "</style>\n",
       "<table border=\"1\" class=\"dataframe\">\n",
       "  <thead>\n",
       "    <tr style=\"text-align: right;\">\n",
       "      <th></th>\n",
       "      <th>AnimalName</th>\n",
       "      <th>AnimalGender</th>\n",
       "      <th>AnimalBirthYear</th>\n",
       "      <th>BreedName</th>\n",
       "      <th>ZipCode</th>\n",
       "      <th>LicenseIssuedDate</th>\n",
       "      <th>LicenseExpiredDate</th>\n",
       "      <th>Extract Year</th>\n",
       "    </tr>\n",
       "  </thead>\n",
       "  <tbody>\n",
       "    <tr>\n",
       "      <th>0</th>\n",
       "      <td>PAIGE</td>\n",
       "      <td>F</td>\n",
       "      <td>2014</td>\n",
       "      <td>American Pit Bull Mix / Pit Bull Mix</td>\n",
       "      <td>10035.0</td>\n",
       "      <td>09/12/2014</td>\n",
       "      <td>09/12/2017</td>\n",
       "      <td>2016</td>\n",
       "    </tr>\n",
       "    <tr>\n",
       "      <th>1</th>\n",
       "      <td>YOGI</td>\n",
       "      <td>M</td>\n",
       "      <td>2010</td>\n",
       "      <td>Boxer</td>\n",
       "      <td>10465.0</td>\n",
       "      <td>09/12/2014</td>\n",
       "      <td>10/02/2017</td>\n",
       "      <td>2016</td>\n",
       "    </tr>\n",
       "    <tr>\n",
       "      <th>2</th>\n",
       "      <td>ALI</td>\n",
       "      <td>M</td>\n",
       "      <td>2014</td>\n",
       "      <td>Basenji</td>\n",
       "      <td>10013.0</td>\n",
       "      <td>09/12/2014</td>\n",
       "      <td>09/12/2019</td>\n",
       "      <td>2016</td>\n",
       "    </tr>\n",
       "    <tr>\n",
       "      <th>3</th>\n",
       "      <td>QUEEN</td>\n",
       "      <td>F</td>\n",
       "      <td>2013</td>\n",
       "      <td>Akita Crossbreed</td>\n",
       "      <td>10013.0</td>\n",
       "      <td>09/12/2014</td>\n",
       "      <td>09/12/2017</td>\n",
       "      <td>2016</td>\n",
       "    </tr>\n",
       "    <tr>\n",
       "      <th>4</th>\n",
       "      <td>LOLA</td>\n",
       "      <td>F</td>\n",
       "      <td>2009</td>\n",
       "      <td>Maltese</td>\n",
       "      <td>10028.0</td>\n",
       "      <td>09/12/2014</td>\n",
       "      <td>10/09/2017</td>\n",
       "      <td>2016</td>\n",
       "    </tr>\n",
       "  </tbody>\n",
       "</table>\n",
       "</div>"
      ],
      "text/plain": [
       "  AnimalName AnimalGender AnimalBirthYear  \\\n",
       "0      PAIGE            F            2014   \n",
       "1       YOGI            M            2010   \n",
       "2        ALI            M            2014   \n",
       "3      QUEEN            F            2013   \n",
       "4       LOLA            F            2009   \n",
       "\n",
       "                              BreedName  ZipCode LicenseIssuedDate  \\\n",
       "0  American Pit Bull Mix / Pit Bull Mix  10035.0        09/12/2014   \n",
       "1                                 Boxer  10465.0        09/12/2014   \n",
       "2                               Basenji  10013.0        09/12/2014   \n",
       "3                      Akita Crossbreed  10013.0        09/12/2014   \n",
       "4                               Maltese  10028.0        09/12/2014   \n",
       "\n",
       "  LicenseExpiredDate  Extract Year  \n",
       "0         09/12/2017          2016  \n",
       "1         10/02/2017          2016  \n",
       "2         09/12/2019          2016  \n",
       "3         09/12/2017          2016  \n",
       "4         10/09/2017          2016  "
      ]
     },
     "execution_count": 3,
     "metadata": {},
     "output_type": "execute_result"
    }
   ],
   "source": [
    "df.head()"
   ]
  },
  {
   "cell_type": "markdown",
   "id": "be434d71-9c98-450c-b79f-bfc065a2036e",
   "metadata": {},
   "source": [
    "# These are the datatypes"
   ]
  },
  {
   "cell_type": "code",
   "execution_count": 4,
   "id": "989c5e07-89c2-45f1-a86f-f05562315c85",
   "metadata": {},
   "outputs": [
    {
     "data": {
      "text/plain": [
       "AnimalName             object\n",
       "AnimalGender           object\n",
       "AnimalBirthYear        object\n",
       "BreedName              object\n",
       "ZipCode               float64\n",
       "LicenseIssuedDate      object\n",
       "LicenseExpiredDate     object\n",
       "Extract Year            int64\n",
       "dtype: object"
      ]
     },
     "execution_count": 4,
     "metadata": {},
     "output_type": "execute_result"
    }
   ],
   "source": [
    "df.dtypes"
   ]
  },
  {
   "cell_type": "code",
   "execution_count": 5,
   "id": "3e423d7c-438d-402a-b047-4a0affa605a1",
   "metadata": {},
   "outputs": [],
   "source": [
    "#convert dates to datetimes\n",
    "\n",
    "df['LicenseIssuedDate'] = pd.to_datetime(df['LicenseIssuedDate'])"
   ]
  },
  {
   "cell_type": "code",
   "execution_count": 6,
   "id": "e3923da5-367c-4e37-a234-df3e44e00c6e",
   "metadata": {},
   "outputs": [],
   "source": [
    "#convert dates to datetimes\n",
    "\n",
    "df['LicenseExpiredDate'] = pd.to_datetime(df['LicenseExpiredDate'])"
   ]
  },
  {
   "cell_type": "markdown",
   "id": "523c3f78-5936-4252-ac4f-14f35297d7a3",
   "metadata": {},
   "source": [
    "# Male vs. Female Dogs"
   ]
  },
  {
   "cell_type": "code",
   "execution_count": 7,
   "id": "cb1fd111-b3bb-4821-8d83-c6af65f5c25a",
   "metadata": {},
   "outputs": [
    {
     "data": {
      "text/plain": [
       "AnimalGender\n",
       "M    392980\n",
       "F    329863\n",
       "Name: count, dtype: int64"
      ]
     },
     "execution_count": 7,
     "metadata": {},
     "output_type": "execute_result"
    }
   ],
   "source": [
    "df['AnimalGender'].value_counts()"
   ]
  },
  {
   "cell_type": "code",
   "execution_count": 8,
   "id": "3f36f3a9-5710-4347-ac20-63a61366e046",
   "metadata": {},
   "outputs": [
    {
     "data": {
      "text/plain": [
       "AnimalName\n",
       "UNKNOWN              18024\n",
       "NAME NOT PROVIDED     8998\n",
       "BELLA                 7908\n",
       "MAX                   6587\n",
       "LUNA                  6183\n",
       "                     ...  \n",
       "STEPHANAS                1\n",
       "SNOYE                    1\n",
       "OYNX                     1\n",
       "VACANO                   1\n",
       "KYLOREN                  1\n",
       "Name: count, Length: 33639, dtype: int64"
      ]
     },
     "execution_count": 8,
     "metadata": {},
     "output_type": "execute_result"
    }
   ],
   "source": [
    "df['AnimalName'].value_counts()"
   ]
  },
  {
   "cell_type": "markdown",
   "id": "78d6af8c-eef7-4165-9f46-46f87c3fd046",
   "metadata": {},
   "source": [
    "# Clean data "
   ]
  },
  {
   "cell_type": "markdown",
   "id": "6909cca9-e1be-40df-bc1b-8be69418493d",
   "metadata": {},
   "source": [
    "There are some values for the names that I don't want to have - Unknown, Name not Provided, Name, A ... so I have to clean the data"
   ]
  },
  {
   "cell_type": "code",
   "execution_count": 9,
   "id": "ef65351f-0403-4d50-adf4-1de3b5183dd5",
   "metadata": {},
   "outputs": [],
   "source": [
    "#Liste of values to replace\n",
    "names_to_replace = ['UNKNOWN', 'NONE', 'NAME NOT PROVIDED', 'A', 'NAME']\n",
    "\n",
    "#replace them\n",
    "df['AnimalName'] = df['AnimalName'].replace(names_to_replace, 'UNKNOWN_NAME')\n"
   ]
  },
  {
   "cell_type": "code",
   "execution_count": 10,
   "id": "cd1cd636-b57e-4ffc-a74f-1e953532b7ff",
   "metadata": {},
   "outputs": [
    {
     "data": {
      "text/plain": [
       "AnimalName\n",
       "UNKNOWN_NAME    32336\n",
       "BELLA            7908\n",
       "MAX              6587\n",
       "LUNA             6183\n",
       "CHARLIE          5741\n",
       "                ...  \n",
       "ASOKA               1\n",
       "SKI                 1\n",
       "ESLA                1\n",
       "RISHKO              1\n",
       "KYLOREN             1\n",
       "Name: count, Length: 33635, dtype: int64"
      ]
     },
     "execution_count": 10,
     "metadata": {},
     "output_type": "execute_result"
    }
   ],
   "source": [
    "\n",
    "df['AnimalName'].value_counts()"
   ]
  },
  {
   "cell_type": "code",
   "execution_count": 11,
   "id": "b1b99180-8361-4e26-8093-d37c2c5774fc",
   "metadata": {},
   "outputs": [],
   "source": [
    "#Export CSV\n",
    "\n",
    "df.to_csv('dogs_cleaned.csv')\n",
    "\n",
    "df['AnimalName'].value_counts().iloc[1:33634].to_csv('dog_names.csv')\n"
   ]
  },
  {
   "cell_type": "code",
   "execution_count": 29,
   "id": "2a3c6767-ca8e-4765-9489-73fedcdd5fe5",
   "metadata": {},
   "outputs": [
    {
     "data": {
      "image/png": "[encoded data removed]",
      "text/plain": [
       "<Figure size 1000x600 with 1 Axes>"
      ]
     },
     "metadata": {},
     "output_type": "display_data"
    }
   ],
   "source": [
    "import matplotlib.pyplot as plt\n",
    "\n",
    "df['AnimalName'].value_counts().iloc[1:10].plot(kind='bar', figsize=(10,6), color='skyblue')\n",
    "plt.title('Top 10 Most Common Dog Names')\n",
    "plt.xlabel('Dog Name')\n",
    "plt.ylabel('Count')\n",
    "plt.xticks(rotation=45)\n",
    "plt.show()"
   ]
  },
  {
   "cell_type": "code",
   "execution_count": null,
   "id": "c922cf1f-e0bd-4833-a4db-f0904d902f70",
   "metadata": {},
   "outputs": [],
   "source": []
  },
  {
   "cell_type": "code",
   "execution_count": 13,
   "id": "ee445316-6705-4eaf-8fc1-3acc78814044",
   "metadata": {},
   "outputs": [
    {
     "data": {
      "text/html": [
       "<div>\n",
       "<style scoped>\n",
       "    .dataframe tbody tr th:only-of-type {\n",
       "        vertical-align: middle;\n",
       "    }\n",
       "\n",
       "    .dataframe tbody tr th {\n",
       "        vertical-align: top;\n",
       "    }\n",
       "\n",
       "    .dataframe thead th {\n",
       "        text-align: right;\n",
       "    }\n",
       "</style>\n",
       "<table border=\"1\" class=\"dataframe\">\n",
       "  <thead>\n",
       "    <tr style=\"text-align: right;\">\n",
       "      <th></th>\n",
       "      <th>AnimalName</th>\n",
       "      <th>AnimalGender</th>\n",
       "      <th>AnimalBirthYear</th>\n",
       "      <th>BreedName</th>\n",
       "      <th>ZipCode</th>\n",
       "      <th>LicenseIssuedDate</th>\n",
       "      <th>LicenseExpiredDate</th>\n",
       "      <th>Extract Year</th>\n",
       "    </tr>\n",
       "  </thead>\n",
       "  <tbody>\n",
       "    <tr>\n",
       "      <th>0</th>\n",
       "      <td>PAIGE</td>\n",
       "      <td>F</td>\n",
       "      <td>2014</td>\n",
       "      <td>American Pit Bull Mix / Pit Bull Mix</td>\n",
       "      <td>10035.0</td>\n",
       "      <td>2014-09-12</td>\n",
       "      <td>2017-09-12</td>\n",
       "      <td>2016</td>\n",
       "    </tr>\n",
       "    <tr>\n",
       "      <th>1</th>\n",
       "      <td>YOGI</td>\n",
       "      <td>M</td>\n",
       "      <td>2010</td>\n",
       "      <td>Boxer</td>\n",
       "      <td>10465.0</td>\n",
       "      <td>2014-09-12</td>\n",
       "      <td>2017-10-02</td>\n",
       "      <td>2016</td>\n",
       "    </tr>\n",
       "    <tr>\n",
       "      <th>2</th>\n",
       "      <td>ALI</td>\n",
       "      <td>M</td>\n",
       "      <td>2014</td>\n",
       "      <td>Basenji</td>\n",
       "      <td>10013.0</td>\n",
       "      <td>2014-09-12</td>\n",
       "      <td>2019-09-12</td>\n",
       "      <td>2016</td>\n",
       "    </tr>\n",
       "    <tr>\n",
       "      <th>3</th>\n",
       "      <td>QUEEN</td>\n",
       "      <td>F</td>\n",
       "      <td>2013</td>\n",
       "      <td>Akita Crossbreed</td>\n",
       "      <td>10013.0</td>\n",
       "      <td>2014-09-12</td>\n",
       "      <td>2017-09-12</td>\n",
       "      <td>2016</td>\n",
       "    </tr>\n",
       "    <tr>\n",
       "      <th>4</th>\n",
       "      <td>LOLA</td>\n",
       "      <td>F</td>\n",
       "      <td>2009</td>\n",
       "      <td>Maltese</td>\n",
       "      <td>10028.0</td>\n",
       "      <td>2014-09-12</td>\n",
       "      <td>2017-10-09</td>\n",
       "      <td>2016</td>\n",
       "    </tr>\n",
       "  </tbody>\n",
       "</table>\n",
       "</div>"
      ],
      "text/plain": [
       "  AnimalName AnimalGender AnimalBirthYear  \\\n",
       "0      PAIGE            F            2014   \n",
       "1       YOGI            M            2010   \n",
       "2        ALI            M            2014   \n",
       "3      QUEEN            F            2013   \n",
       "4       LOLA            F            2009   \n",
       "\n",
       "                              BreedName  ZipCode LicenseIssuedDate  \\\n",
       "0  American Pit Bull Mix / Pit Bull Mix  10035.0        2014-09-12   \n",
       "1                                 Boxer  10465.0        2014-09-12   \n",
       "2                               Basenji  10013.0        2014-09-12   \n",
       "3                      Akita Crossbreed  10013.0        2014-09-12   \n",
       "4                               Maltese  10028.0        2014-09-12   \n",
       "\n",
       "  LicenseExpiredDate  Extract Year  \n",
       "0         2017-09-12          2016  \n",
       "1         2017-10-02          2016  \n",
       "2         2019-09-12          2016  \n",
       "3         2017-09-12          2016  \n",
       "4         2017-10-09          2016  "
      ]
     },
     "execution_count": 13,
     "metadata": {},
     "output_type": "execute_result"
    }
   ],
   "source": [
    "df.head()"
   ]
  },
  {
   "cell_type": "code",
   "execution_count": 14,
   "id": "91d5e94f-d142-40ef-a7b2-028bb5d99205",
   "metadata": {},
   "outputs": [
    {
     "name": "stdout",
     "output_type": "stream",
     "text": [
      "<class 'pandas.core.frame.DataFrame'>\n",
      "RangeIndex: 722864 entries, 0 to 722863\n",
      "Data columns (total 8 columns):\n",
      " #   Column              Non-Null Count   Dtype         \n",
      "---  ------              --------------   -----         \n",
      " 0   AnimalName          721054 non-null  object        \n",
      " 1   AnimalGender        722843 non-null  object        \n",
      " 2   AnimalBirthYear     722864 non-null  object        \n",
      " 3   BreedName           722864 non-null  object        \n",
      " 4   ZipCode             722855 non-null  float64       \n",
      " 5   LicenseIssuedDate   722864 non-null  datetime64[ns]\n",
      " 6   LicenseExpiredDate  722782 non-null  datetime64[ns]\n",
      " 7   Extract Year        722864 non-null  int64         \n",
      "dtypes: datetime64[ns](2), float64(1), int64(1), object(4)\n",
      "memory usage: 44.1+ MB\n"
     ]
    }
   ],
   "source": [
    "df.info()"
   ]
  },
  {
   "cell_type": "markdown",
   "id": "57278e71-cc87-435b-a205-34b259731863",
   "metadata": {},
   "source": [
    "# Top 10 Popular Dog Breeds "
   ]
  },
  {
   "cell_type": "markdown",
   "id": "572ff2d7-68c8-496f-9682-33eeb8534c86",
   "metadata": {},
   "source": [
    "What are the most popular dog breeds in NYC?"
   ]
  },
  {
   "cell_type": "code",
   "execution_count": 15,
   "id": "071d35b6-05e0-4073-b421-04e801eea40a",
   "metadata": {},
   "outputs": [],
   "source": [
    "#Create new dataframe\n",
    "\n",
    "breeds_ranking = df['BreedName'].value_counts().reset_index()\n",
    "breeds_ranking.columns = ['BreedName', 'Count']"
   ]
  },
  {
   "cell_type": "code",
   "execution_count": 16,
   "id": "3f0cd14d-f185-4c3a-88e7-2c7e5ae1a020",
   "metadata": {},
   "outputs": [
    {
     "name": "stdout",
     "output_type": "stream",
     "text": [
      "                               BreedName  Count\n",
      "0                                Unknown  63558\n",
      "1                      Yorkshire Terrier  40224\n",
      "2                               Shih Tzu  37108\n",
      "3                              Chihuahua  28086\n",
      "4                     Labrador Retriever  21852\n",
      "5                                Maltese  20858\n",
      "6          Labrador Retriever Crossbreed  19334\n",
      "7   American Pit Bull Mix / Pit Bull Mix  17271\n",
      "8                    Shih Tzu Crossbreed  14549\n",
      "9                             Pomeranian  13984\n",
      "10                     Poodle Crossbreed  13440\n",
      "11    American Pit Bull Terrier/Pit Bull  13131\n",
      "12                              Havanese  12265\n",
      "13                  Chihuahua Crossbreed  11548\n",
      "14                      Golden Retriever  10890\n",
      "15                        French Bulldog  10839\n",
      "16                                Beagle  10178\n",
      "17                   German Shepherd Dog  10130\n",
      "18                          Goldendoodle  10115\n",
      "19                           Terrier mix   9493\n",
      "20                                Poodle   9167\n",
      "21                             Shiba Inu   8816\n",
      "22         Cavalier King Charles Spaniel   8528\n",
      "23                  Jack Russell Terrier   8068\n",
      "24                           Poodle, Toy   7671\n",
      "25                        Siberian Husky   7427\n",
      "26          Yorkshire Terrier Crossbreed   7295\n",
      "27            German Shepherd Crossbreed   7204\n",
      "28                     Poodle, Miniature   7005\n",
      "29                    Maltese Crossbreed   6954\n",
      "30                   Australian Shepherd   6848\n",
      "31                        Cocker Spaniel   6710\n",
      "32                                   Pug   6382\n",
      "33                           Labradoodle   6255\n",
      "34                        Boston Terrier   6189\n",
      "35                             Dachshund   5916\n",
      "36                          Not Provided   5913\n",
      "37                                Morkie   5773\n",
      "38                          Bichon Frise   5666\n",
      "39                     Beagle Crossbreed   5664\n",
      "40                              Maltipoo   5324\n",
      "41                    Terrier Crossbreed   4521\n",
      "42               Bichon Frise Crossbreed   4451\n",
      "43                                 Boxer   4429\n",
      "44        American Staffordshire Terrier   4267\n",
      "45                   Miniature Schnauzer   4071\n",
      "46                  Schnauzer, Miniature   4064\n",
      "47                    Miniature Pinscher   4018\n",
      "48                      Poodle, Standard   3905\n",
      "49                     Bull Dog, English   3824\n",
      "50                                Puggle   3394\n",
      "51                              Cockapoo   3264\n",
      "52                 Dachshund Smooth Coat   2948\n",
      "53                            Lhasa Apso   2875\n",
      "54         Miniature Australian Shepherd   2872\n",
      "55                            Rottweiler   2695\n",
      "56                      Bull Dog, French   2614\n",
      "57                             Pekingese   2548\n",
      "58       Dachshund Smooth Coat Miniature   2543\n",
      "59                      Jindo Dog, Korea   2452\n"
     ]
    }
   ],
   "source": [
    "print(breeds_ranking.head(60))"
   ]
  },
  {
   "cell_type": "code",
   "execution_count": 17,
   "id": "fc2575bf-2d1f-4f57-97d4-1bfe23cfe35f",
   "metadata": {},
   "outputs": [],
   "source": [
    "# Clean data - \"Unknown\" and \"Not Provided\" should be one value\n",
    "\n",
    "df['BreedName'] = df['BreedName'].replace({\n",
    "    'Unknown': 'Unknown',\n",
    "    'Not Provided': 'Unknown'\n",
    "})"
   ]
  },
  {
   "cell_type": "code",
   "execution_count": 18,
   "id": "dfe6519e-294d-4f8c-9edf-040acf723f1c",
   "metadata": {},
   "outputs": [],
   "source": [
    "#now it should be cleaned\n",
    "\n",
    "breed_ranking = df['BreedName'].value_counts().reset_index()\n",
    "breed_ranking.columns = ['BreedName', 'Count']\n",
    "\n"
   ]
  },
  {
   "cell_type": "code",
   "execution_count": 19,
   "id": "7917ce7c-11a7-4c8b-8933-a82e7acce376",
   "metadata": {},
   "outputs": [
    {
     "data": {
      "text/plain": [
       "(1594, 2)"
      ]
     },
     "execution_count": 19,
     "metadata": {},
     "output_type": "execute_result"
    }
   ],
   "source": [
    "breed_ranking.shape"
   ]
  },
  {
   "cell_type": "code",
   "execution_count": 20,
   "id": "ae80c001-2b66-4abc-92b7-36be99ca2842",
   "metadata": {},
   "outputs": [],
   "source": [
    "#Create CSV\n",
    "\n",
    "breed_ranking.to_csv('breed_ranking.csv')\n"
   ]
  },
  {
   "cell_type": "code",
   "execution_count": 21,
   "id": "89341c39-3873-4c5d-818f-9b390b8d0935",
   "metadata": {},
   "outputs": [
    {
     "data": {
      "text/html": [
       "<div>\n",
       "<style scoped>\n",
       "    .dataframe tbody tr th:only-of-type {\n",
       "        vertical-align: middle;\n",
       "    }\n",
       "\n",
       "    .dataframe tbody tr th {\n",
       "        vertical-align: top;\n",
       "    }\n",
       "\n",
       "    .dataframe thead th {\n",
       "        text-align: right;\n",
       "    }\n",
       "</style>\n",
       "<table border=\"1\" class=\"dataframe\">\n",
       "  <thead>\n",
       "    <tr style=\"text-align: right;\">\n",
       "      <th></th>\n",
       "      <th>BreedName</th>\n",
       "      <th>Count</th>\n",
       "    </tr>\n",
       "  </thead>\n",
       "  <tbody>\n",
       "    <tr>\n",
       "      <th>0</th>\n",
       "      <td>Unknown</td>\n",
       "      <td>69471</td>\n",
       "    </tr>\n",
       "    <tr>\n",
       "      <th>1</th>\n",
       "      <td>Yorkshire Terrier</td>\n",
       "      <td>40224</td>\n",
       "    </tr>\n",
       "    <tr>\n",
       "      <th>2</th>\n",
       "      <td>Shih Tzu</td>\n",
       "      <td>37108</td>\n",
       "    </tr>\n",
       "    <tr>\n",
       "      <th>3</th>\n",
       "      <td>Chihuahua</td>\n",
       "      <td>28086</td>\n",
       "    </tr>\n",
       "    <tr>\n",
       "      <th>4</th>\n",
       "      <td>Labrador Retriever</td>\n",
       "      <td>21852</td>\n",
       "    </tr>\n",
       "    <tr>\n",
       "      <th>5</th>\n",
       "      <td>Maltese</td>\n",
       "      <td>20858</td>\n",
       "    </tr>\n",
       "    <tr>\n",
       "      <th>6</th>\n",
       "      <td>Labrador Retriever Crossbreed</td>\n",
       "      <td>19334</td>\n",
       "    </tr>\n",
       "    <tr>\n",
       "      <th>7</th>\n",
       "      <td>American Pit Bull Mix / Pit Bull Mix</td>\n",
       "      <td>17271</td>\n",
       "    </tr>\n",
       "    <tr>\n",
       "      <th>8</th>\n",
       "      <td>Shih Tzu Crossbreed</td>\n",
       "      <td>14549</td>\n",
       "    </tr>\n",
       "    <tr>\n",
       "      <th>9</th>\n",
       "      <td>Pomeranian</td>\n",
       "      <td>13984</td>\n",
       "    </tr>\n",
       "    <tr>\n",
       "      <th>10</th>\n",
       "      <td>Poodle Crossbreed</td>\n",
       "      <td>13440</td>\n",
       "    </tr>\n",
       "    <tr>\n",
       "      <th>11</th>\n",
       "      <td>American Pit Bull Terrier/Pit Bull</td>\n",
       "      <td>13131</td>\n",
       "    </tr>\n",
       "    <tr>\n",
       "      <th>12</th>\n",
       "      <td>Havanese</td>\n",
       "      <td>12265</td>\n",
       "    </tr>\n",
       "    <tr>\n",
       "      <th>13</th>\n",
       "      <td>Chihuahua Crossbreed</td>\n",
       "      <td>11548</td>\n",
       "    </tr>\n",
       "    <tr>\n",
       "      <th>14</th>\n",
       "      <td>Golden Retriever</td>\n",
       "      <td>10890</td>\n",
       "    </tr>\n",
       "    <tr>\n",
       "      <th>15</th>\n",
       "      <td>French Bulldog</td>\n",
       "      <td>10839</td>\n",
       "    </tr>\n",
       "    <tr>\n",
       "      <th>16</th>\n",
       "      <td>Beagle</td>\n",
       "      <td>10178</td>\n",
       "    </tr>\n",
       "    <tr>\n",
       "      <th>17</th>\n",
       "      <td>German Shepherd Dog</td>\n",
       "      <td>10130</td>\n",
       "    </tr>\n",
       "    <tr>\n",
       "      <th>18</th>\n",
       "      <td>Goldendoodle</td>\n",
       "      <td>10115</td>\n",
       "    </tr>\n",
       "    <tr>\n",
       "      <th>19</th>\n",
       "      <td>Terrier mix</td>\n",
       "      <td>9493</td>\n",
       "    </tr>\n",
       "  </tbody>\n",
       "</table>\n",
       "</div>"
      ],
      "text/plain": [
       "                               BreedName  Count\n",
       "0                                Unknown  69471\n",
       "1                      Yorkshire Terrier  40224\n",
       "2                               Shih Tzu  37108\n",
       "3                              Chihuahua  28086\n",
       "4                     Labrador Retriever  21852\n",
       "5                                Maltese  20858\n",
       "6          Labrador Retriever Crossbreed  19334\n",
       "7   American Pit Bull Mix / Pit Bull Mix  17271\n",
       "8                    Shih Tzu Crossbreed  14549\n",
       "9                             Pomeranian  13984\n",
       "10                     Poodle Crossbreed  13440\n",
       "11    American Pit Bull Terrier/Pit Bull  13131\n",
       "12                              Havanese  12265\n",
       "13                  Chihuahua Crossbreed  11548\n",
       "14                      Golden Retriever  10890\n",
       "15                        French Bulldog  10839\n",
       "16                                Beagle  10178\n",
       "17                   German Shepherd Dog  10130\n",
       "18                          Goldendoodle  10115\n",
       "19                           Terrier mix   9493"
      ]
     },
     "execution_count": 21,
     "metadata": {},
     "output_type": "execute_result"
    }
   ],
   "source": [
    "#With Unknown\n",
    "\n",
    "breed_ranking.head(20)"
   ]
  },
  {
   "cell_type": "code",
   "execution_count": 83,
   "id": "3357cef3-dd16-425a-ad6e-9d73d178cf5d",
   "metadata": {},
   "outputs": [
    {
     "data": {
      "text/html": [
       "<div>\n",
       "<style scoped>\n",
       "    .dataframe tbody tr th:only-of-type {\n",
       "        vertical-align: middle;\n",
       "    }\n",
       "\n",
       "    .dataframe tbody tr th {\n",
       "        vertical-align: top;\n",
       "    }\n",
       "\n",
       "    .dataframe thead th {\n",
       "        text-align: right;\n",
       "    }\n",
       "</style>\n",
       "<table border=\"1\" class=\"dataframe\">\n",
       "  <thead>\n",
       "    <tr style=\"text-align: right;\">\n",
       "      <th></th>\n",
       "      <th>BreedName</th>\n",
       "      <th>Count</th>\n",
       "    </tr>\n",
       "  </thead>\n",
       "  <tbody>\n",
       "    <tr>\n",
       "      <th>1</th>\n",
       "      <td>Yorkshire Terrier</td>\n",
       "      <td>40224</td>\n",
       "    </tr>\n",
       "    <tr>\n",
       "      <th>2</th>\n",
       "      <td>Shih Tzu</td>\n",
       "      <td>37108</td>\n",
       "    </tr>\n",
       "    <tr>\n",
       "      <th>3</th>\n",
       "      <td>Chihuahua</td>\n",
       "      <td>28086</td>\n",
       "    </tr>\n",
       "    <tr>\n",
       "      <th>4</th>\n",
       "      <td>Labrador Retriever</td>\n",
       "      <td>21852</td>\n",
       "    </tr>\n",
       "    <tr>\n",
       "      <th>5</th>\n",
       "      <td>Maltese</td>\n",
       "      <td>20858</td>\n",
       "    </tr>\n",
       "    <tr>\n",
       "      <th>6</th>\n",
       "      <td>Labrador Retriever Crossbreed</td>\n",
       "      <td>19334</td>\n",
       "    </tr>\n",
       "    <tr>\n",
       "      <th>7</th>\n",
       "      <td>American Pit Bull Mix / Pit Bull Mix</td>\n",
       "      <td>17271</td>\n",
       "    </tr>\n",
       "    <tr>\n",
       "      <th>8</th>\n",
       "      <td>Shih Tzu Crossbreed</td>\n",
       "      <td>14549</td>\n",
       "    </tr>\n",
       "    <tr>\n",
       "      <th>9</th>\n",
       "      <td>Pomeranian</td>\n",
       "      <td>13984</td>\n",
       "    </tr>\n",
       "    <tr>\n",
       "      <th>10</th>\n",
       "      <td>Poodle Crossbreed</td>\n",
       "      <td>13440</td>\n",
       "    </tr>\n",
       "    <tr>\n",
       "      <th>11</th>\n",
       "      <td>American Pit Bull Terrier/Pit Bull</td>\n",
       "      <td>13131</td>\n",
       "    </tr>\n",
       "    <tr>\n",
       "      <th>12</th>\n",
       "      <td>Havanese</td>\n",
       "      <td>12265</td>\n",
       "    </tr>\n",
       "    <tr>\n",
       "      <th>13</th>\n",
       "      <td>Chihuahua Crossbreed</td>\n",
       "      <td>11548</td>\n",
       "    </tr>\n",
       "    <tr>\n",
       "      <th>14</th>\n",
       "      <td>Golden Retriever</td>\n",
       "      <td>10890</td>\n",
       "    </tr>\n",
       "    <tr>\n",
       "      <th>15</th>\n",
       "      <td>French Bulldog</td>\n",
       "      <td>10839</td>\n",
       "    </tr>\n",
       "    <tr>\n",
       "      <th>16</th>\n",
       "      <td>Beagle</td>\n",
       "      <td>10178</td>\n",
       "    </tr>\n",
       "    <tr>\n",
       "      <th>17</th>\n",
       "      <td>German Shepherd Dog</td>\n",
       "      <td>10130</td>\n",
       "    </tr>\n",
       "    <tr>\n",
       "      <th>18</th>\n",
       "      <td>Goldendoodle</td>\n",
       "      <td>10115</td>\n",
       "    </tr>\n",
       "    <tr>\n",
       "      <th>19</th>\n",
       "      <td>Terrier mix</td>\n",
       "      <td>9493</td>\n",
       "    </tr>\n",
       "    <tr>\n",
       "      <th>20</th>\n",
       "      <td>Poodle</td>\n",
       "      <td>9167</td>\n",
       "    </tr>\n",
       "  </tbody>\n",
       "</table>\n",
       "</div>"
      ],
      "text/plain": [
       "                               BreedName  Count\n",
       "1                      Yorkshire Terrier  40224\n",
       "2                               Shih Tzu  37108\n",
       "3                              Chihuahua  28086\n",
       "4                     Labrador Retriever  21852\n",
       "5                                Maltese  20858\n",
       "6          Labrador Retriever Crossbreed  19334\n",
       "7   American Pit Bull Mix / Pit Bull Mix  17271\n",
       "8                    Shih Tzu Crossbreed  14549\n",
       "9                             Pomeranian  13984\n",
       "10                     Poodle Crossbreed  13440\n",
       "11    American Pit Bull Terrier/Pit Bull  13131\n",
       "12                              Havanese  12265\n",
       "13                  Chihuahua Crossbreed  11548\n",
       "14                      Golden Retriever  10890\n",
       "15                        French Bulldog  10839\n",
       "16                                Beagle  10178\n",
       "17                   German Shepherd Dog  10130\n",
       "18                          Goldendoodle  10115\n",
       "19                           Terrier mix   9493\n",
       "20                                Poodle   9167"
      ]
     },
     "execution_count": 83,
     "metadata": {},
     "output_type": "execute_result"
    }
   ],
   "source": [
    "#Without Unknown \n",
    "\n",
    "#breed_ranking[breed_ranking['BreedName'] != 'Unknown'].head(20)"
   ]
  },
  {
   "cell_type": "code",
   "execution_count": 22,
   "id": "959ed53f-3fef-4f4a-8618-79b860981dd5",
   "metadata": {},
   "outputs": [
    {
     "data": {
      "text/plain": [
       "BreedName\n",
       "Unknown                                       9.610521\n",
       "Yorkshire Terrier                             5.564532\n",
       "Shih Tzu                                      5.133469\n",
       "Chihuahua                                     3.885378\n",
       "Labrador Retriever                            3.022975\n",
       "                                                ...   \n",
       "Husky/Collie Mix                              0.000138\n",
       "Border Collie-Black Labrador Retriever Mix    0.000138\n",
       "BRAUZER                                       0.000138\n",
       "Slorky                                        0.000138\n",
       "Yorkie/Bichon                                 0.000138\n",
       "Name: proportion, Length: 1594, dtype: float64"
      ]
     },
     "execution_count": 22,
     "metadata": {},
     "output_type": "execute_result"
    }
   ],
   "source": [
    "#What is the percentage of the Unknown though?\n",
    "\n",
    "df['BreedName'].value_counts(normalize=True) *100\n",
    "\n"
   ]
  },
  {
   "cell_type": "code",
   "execution_count": 23,
   "id": "72fa18a4-9fd8-45a9-ba27-1a69eea9df4e",
   "metadata": {},
   "outputs": [],
   "source": [
    "# Create new column \n",
    "\n",
    "total_count = breed_ranking['Count'].sum()\n",
    "\n",
    "# Add a new column 'Share' with the relative frequency \n",
    "breed_ranking['Share'] = (breed_ranking['Count'] / total_count * 100).round(2)\n"
   ]
  },
  {
   "cell_type": "code",
   "execution_count": 24,
   "id": "798dd971-f85b-4b93-985c-db55d402d654",
   "metadata": {},
   "outputs": [
    {
     "name": "stdout",
     "output_type": "stream",
     "text": [
      "            BreedName  Count  Share\n",
      "0             Unknown  69471   9.61\n",
      "1   Yorkshire Terrier  40224   5.56\n",
      "2            Shih Tzu  37108   5.13\n",
      "3           Chihuahua  28086   3.89\n",
      "4  Labrador Retriever  21852   3.02\n"
     ]
    }
   ],
   "source": [
    "print(breed_ranking.head())"
   ]
  },
  {
   "cell_type": "code",
   "execution_count": 25,
   "id": "a1b9b4e2-9993-4f51-8e75-863a0fbb7509",
   "metadata": {},
   "outputs": [],
   "source": [
    "#Create CSV\n",
    "\n",
    "breed_ranking.to_csv('breed_ranking.csv')\n"
   ]
  },
  {
   "cell_type": "code",
   "execution_count": 26,
   "id": "c289600e-1b5f-49d9-8e76-1ec17ba1d8c6",
   "metadata": {},
   "outputs": [
    {
     "data": {
      "text/html": [
       "<div>\n",
       "<style scoped>\n",
       "    .dataframe tbody tr th:only-of-type {\n",
       "        vertical-align: middle;\n",
       "    }\n",
       "\n",
       "    .dataframe tbody tr th {\n",
       "        vertical-align: top;\n",
       "    }\n",
       "\n",
       "    .dataframe thead th {\n",
       "        text-align: right;\n",
       "    }\n",
       "</style>\n",
       "<table border=\"1\" class=\"dataframe\">\n",
       "  <thead>\n",
       "    <tr style=\"text-align: right;\">\n",
       "      <th></th>\n",
       "      <th>BreedName</th>\n",
       "      <th>Count</th>\n",
       "      <th>Share</th>\n",
       "    </tr>\n",
       "  </thead>\n",
       "  <tbody>\n",
       "  </tbody>\n",
       "</table>\n",
       "</div>"
      ],
      "text/plain": [
       "Empty DataFrame\n",
       "Columns: [BreedName, Count, Share]\n",
       "Index: []"
      ]
     },
     "execution_count": 26,
     "metadata": {},
     "output_type": "execute_result"
    }
   ],
   "source": [
    "#another version without Unknown\n",
    "\n",
    "(breed_ranking[breed_ranking['BreedName'] != 'Unknown'].head(0)).round(4)"
   ]
  },
  {
   "cell_type": "code",
   "execution_count": 28,
   "id": "6c93595f-2975-4d8d-bba2-8b65b4930011",
   "metadata": {},
   "outputs": [
    {
     "data": {
      "text/html": [
       "<div>\n",
       "<style scoped>\n",
       "    .dataframe tbody tr th:only-of-type {\n",
       "        vertical-align: middle;\n",
       "    }\n",
       "\n",
       "    .dataframe tbody tr th {\n",
       "        vertical-align: top;\n",
       "    }\n",
       "\n",
       "    .dataframe thead th {\n",
       "        text-align: right;\n",
       "    }\n",
       "</style>\n",
       "<table border=\"1\" class=\"dataframe\">\n",
       "  <thead>\n",
       "    <tr style=\"text-align: right;\">\n",
       "      <th></th>\n",
       "      <th>AnimalName</th>\n",
       "      <th>AnimalGender</th>\n",
       "      <th>AnimalBirthYear</th>\n",
       "      <th>BreedName</th>\n",
       "      <th>ZipCode</th>\n",
       "      <th>LicenseIssuedDate</th>\n",
       "      <th>LicenseExpiredDate</th>\n",
       "      <th>Extract Year</th>\n",
       "    </tr>\n",
       "  </thead>\n",
       "  <tbody>\n",
       "    <tr>\n",
       "      <th>0</th>\n",
       "      <td>PAIGE</td>\n",
       "      <td>F</td>\n",
       "      <td>2014</td>\n",
       "      <td>American Pit Bull Mix / Pit Bull Mix</td>\n",
       "      <td>10035.0</td>\n",
       "      <td>2014-09-12</td>\n",
       "      <td>2017-09-12</td>\n",
       "      <td>2016</td>\n",
       "    </tr>\n",
       "    <tr>\n",
       "      <th>1</th>\n",
       "      <td>YOGI</td>\n",
       "      <td>M</td>\n",
       "      <td>2010</td>\n",
       "      <td>Boxer</td>\n",
       "      <td>10465.0</td>\n",
       "      <td>2014-09-12</td>\n",
       "      <td>2017-10-02</td>\n",
       "      <td>2016</td>\n",
       "    </tr>\n",
       "    <tr>\n",
       "      <th>2</th>\n",
       "      <td>ALI</td>\n",
       "      <td>M</td>\n",
       "      <td>2014</td>\n",
       "      <td>Basenji</td>\n",
       "      <td>10013.0</td>\n",
       "      <td>2014-09-12</td>\n",
       "      <td>2019-09-12</td>\n",
       "      <td>2016</td>\n",
       "    </tr>\n",
       "    <tr>\n",
       "      <th>3</th>\n",
       "      <td>QUEEN</td>\n",
       "      <td>F</td>\n",
       "      <td>2013</td>\n",
       "      <td>Akita Crossbreed</td>\n",
       "      <td>10013.0</td>\n",
       "      <td>2014-09-12</td>\n",
       "      <td>2017-09-12</td>\n",
       "      <td>2016</td>\n",
       "    </tr>\n",
       "    <tr>\n",
       "      <th>4</th>\n",
       "      <td>LOLA</td>\n",
       "      <td>F</td>\n",
       "      <td>2009</td>\n",
       "      <td>Maltese</td>\n",
       "      <td>10028.0</td>\n",
       "      <td>2014-09-12</td>\n",
       "      <td>2017-10-09</td>\n",
       "      <td>2016</td>\n",
       "    </tr>\n",
       "  </tbody>\n",
       "</table>\n",
       "</div>"
      ],
      "text/plain": [
       "  AnimalName AnimalGender AnimalBirthYear  \\\n",
       "0      PAIGE            F            2014   \n",
       "1       YOGI            M            2010   \n",
       "2        ALI            M            2014   \n",
       "3      QUEEN            F            2013   \n",
       "4       LOLA            F            2009   \n",
       "\n",
       "                              BreedName  ZipCode LicenseIssuedDate  \\\n",
       "0  American Pit Bull Mix / Pit Bull Mix  10035.0        2014-09-12   \n",
       "1                                 Boxer  10465.0        2014-09-12   \n",
       "2                               Basenji  10013.0        2014-09-12   \n",
       "3                      Akita Crossbreed  10013.0        2014-09-12   \n",
       "4                               Maltese  10028.0        2014-09-12   \n",
       "\n",
       "  LicenseExpiredDate  Extract Year  \n",
       "0         2017-09-12          2016  \n",
       "1         2017-10-02          2016  \n",
       "2         2019-09-12          2016  \n",
       "3         2017-09-12          2016  \n",
       "4         2017-10-09          2016  "
      ]
     },
     "execution_count": 28,
     "metadata": {},
     "output_type": "execute_result"
    }
   ],
   "source": [
    "df.head()"
   ]
  },
  {
   "cell_type": "code",
   "execution_count": 38,
   "id": "df4dfca2-2f0a-4e3b-887c-1142c6ee5ed4",
   "metadata": {},
   "outputs": [
    {
     "data": {
      "text/plain": [
       "0         10035.0\n",
       "1         10465.0\n",
       "2         10013.0\n",
       "3         10013.0\n",
       "4         10028.0\n",
       "           ...   \n",
       "722859    11204.0\n",
       "722860    10463.0\n",
       "722861    11215.0\n",
       "722862    11249.0\n",
       "722863    11378.0\n",
       "Name: ZipCode, Length: 722864, dtype: float64"
      ]
     },
     "execution_count": 38,
     "metadata": {},
     "output_type": "execute_result"
    }
   ],
   "source": [
    "df['ZipCode']"
   ]
  },
  {
   "cell_type": "code",
   "execution_count": 41,
   "id": "f2d8027a-f427-4a93-a6af-506092d1a866",
   "metadata": {},
   "outputs": [
    {
     "name": "stdout",
     "output_type": "stream",
     "text": [
      "                 BreedName  ZipCode  counts\n",
      "0                  6152012  10014.0       1\n",
      "1            AFFENPINSCHER  10022.0       1\n",
      "2                AKITA MIX  11004.0       1\n",
      "3         ALASKAN KLEE KAI  10022.0       1\n",
      "4      AM ESKIMO / MALTESE  11249.0       1\n",
      "...                    ...      ...     ...\n",
      "31764       yorkie/maltese  11374.0       1\n",
      "31765            yorkiepoo  10304.0       1\n",
      "31766            yorkiepoo  10308.0       1\n",
      "31767            yorkiepoo  11201.0       1\n",
      "31768               zuchon  10312.0       1\n",
      "\n",
      "[31769 rows x 3 columns]\n"
     ]
    }
   ],
   "source": [
    "result = df.groupby(['BreedName', 'ZipCode']).size().reset_index(name='counts')\n",
    "print(result)"
   ]
  },
  {
   "cell_type": "code",
   "execution_count": 49,
   "id": "ccb77e33-50cd-4381-b892-be1bca8b8498",
   "metadata": {},
   "outputs": [
    {
     "name": "stdout",
     "output_type": "stream",
     "text": [
      "              BreedName ZipCode  counts\n",
      "0             Chihuahua   10001     200\n",
      "1     Yorkshire Terrier   10002     408\n",
      "2             Chihuahua   10003     312\n",
      "3        French Bulldog   10004      43\n",
      "4        French Bulldog   10005     100\n",
      "..                  ...     ...     ...\n",
      "436   Yorkshire Terrier   11692     117\n",
      "437   Yorkshire Terrier   11693     110\n",
      "438            Shih Tzu   11694     116\n",
      "439   Yorkshire Terrier   11695       1\n",
      "440  Labrador Retriever   11697      39\n",
      "\n",
      "[441 rows x 3 columns]\n"
     ]
    }
   ],
   "source": [
    "\n",
    "# 1. delete NaN \n",
    "df_clean = df.dropna(subset=['ZipCode']).copy()\n",
    "\n",
    "# 2. convert ZipCode to String\n",
    "df_clean['ZipCode'] = df_clean['ZipCode'].astype(int).astype(str).str.zfill(5)\n",
    "\n",
    "# 3. filter 'Unknown' out of BreedName \n",
    "df_clean = df_clean[df_clean['BreedName'] != 'Unknown']\n",
    "\n",
    "# 5. group and count\n",
    "result = df_nyc.groupby(['BreedName', 'ZipCode']).size().reset_index(name='counts')\n",
    "\n",
    "# 6. for everyy ZipCode find the most popular breed\n",
    "idx = result.groupby('ZipCode')['counts'].idxmax()\n",
    "most_popular_per_zip = result.loc[idx].reset_index(drop=True)\n",
    "\n",
    "print(most_popular_per_zip)\n",
    "\n"
   ]
  },
  {
   "cell_type": "code",
   "execution_count": 51,
   "id": "280724a9-825d-4a7c-b31e-7286c9e9c978",
   "metadata": {},
   "outputs": [],
   "source": [
    "most_popular_per_zip.to_csv('most_popular_per_zip.csv')"
   ]
  },
  {
   "cell_type": "code",
   "execution_count": null,
   "id": "62e4dab9-4b9b-4760-a22a-0f817ecee7a8",
   "metadata": {},
   "outputs": [],
   "source": []
  }
 ],
 "metadata": {
  "kernelspec": {
   "display_name": "Python 3 (ipykernel)",
   "language": "python",
   "name": "python3"
  },
  "language_info": {
   "codemirror_mode": {
    "name": "ipython",
    "version": 3
   },
   "file_extension": ".py",
   "mimetype": "text/x-python",
   "name": "python",
   "nbconvert_exporter": "python",
   "pygments_lexer": "ipython3",
   "version": "3.12.0"
  }
 },
 "nbformat": 4,
 "nbformat_minor": 5
}
